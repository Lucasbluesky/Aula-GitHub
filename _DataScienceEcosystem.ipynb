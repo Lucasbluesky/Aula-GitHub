{
 "cells": [
  {
   "cell_type": "markdown",
   "id": "334eed90-bb07-4cf7-9040-a2eaf75281ac",
   "metadata": {},
   "source": [
    "# Data Science Tools and Ecosystem"
   ]
  },
  {
   "cell_type": "markdown",
   "id": "f086117d-c844-487e-9347-f4c8b15f7e5e",
   "metadata": {},
   "source": [
    "Neste notebook, as Ferramentas e Ecossistema de Ciência de Dados são resumidos."
   ]
  },
  {
   "cell_type": "markdown",
   "id": "762f57c0-700a-45ac-8029-d3204747e43f",
   "metadata": {},
   "source": [
    "**Objetivos:**\n",
    "- Listar linguagens populares para Ciência de Dados\n",
    "- Listar bibliotecas populares para Ciência de Dados\n",
    "- Listar ferramentas populares para Ciência de Dados"
   ]
  },
  {
   "cell_type": "markdown",
   "id": "6c854662-b40b-4257-82c9-777414a80eeb",
   "metadata": {},
   "source": [
    "Algumas das linguagens populares que os Cientistas de Dados usam são:\n",
    "1. python\n",
    "2. R\n",
    "3. Julia"
   ]
  },
  {
   "cell_type": "markdown",
   "id": "e6f732f0-e2c6-43d5-9f98-d5e648f23038",
   "metadata": {},
   "source": [
    "Algumas das bibliotecas comumente usadas por Cientistas de Dados incluem:\n",
    "1. Numpy\n",
    "2. Pandas\n",
    "3. Matplotlib"
   ]
  },
  {
   "cell_type": "markdown",
   "id": "bc598432-451d-4025-a834-5ac7d187def4",
   "metadata": {},
   "source": [
    "|Ferramentas de Ciência de Dados|\n",
    "---------------------------------\n",
    "    |Jupyter Notebook|\n",
    "    |TensorFlow|\n",
    "    |RStudio|\n"
   ]
  },
  {
   "cell_type": "markdown",
   "id": "20e3079c-2bad-4241-9ef2-a611efaa502b",
   "metadata": {},
   "source": [
    "### Abaixo estão alguns exemplos de avaliação de expressões aritméticas em Python"
   ]
  },
  {
   "cell_type": "markdown",
   "id": "42190b00-0649-4d00-8c77-caeb134102cc",
   "metadata": {},
   "source": [
    "Esta é uma expressão aritmética simples para multiplicar e depois adicionar inteiros"
   ]
  },
  {
   "cell_type": "code",
   "execution_count": 7,
   "id": "6146ad18-fc41-4e84-92bb-db7b2a612b0c",
   "metadata": {},
   "outputs": [
    {
     "data": {
      "text/plain": [
       "17"
      ]
     },
     "execution_count": 7,
     "metadata": {},
     "output_type": "execute_result"
    }
   ],
   "source": [
    "(3*4)+5"
   ]
  },
  {
   "cell_type": "markdown",
   "id": "d6d664fa-683c-46b6-87b5-5f88d73c1853",
   "metadata": {},
   "source": [
    "Isso converterá 200 minutos em horas dividindo por 60"
   ]
  },
  {
   "cell_type": "code",
   "execution_count": 9,
   "id": "6a2baf24-decf-4c38-8c80-323f5a7c4a4a",
   "metadata": {},
   "outputs": [
    {
     "data": {
      "text/plain": [
       "3.3333333333333335"
      ]
     },
     "execution_count": 9,
     "metadata": {},
     "output_type": "execute_result"
    }
   ],
   "source": [
    "200/60"
   ]
  },
  {
   "cell_type": "markdown",
   "id": "e1fc09b8-6437-4248-8007-6679883fe30b",
   "metadata": {},
   "source": [
    "## Autor\n",
    "Lucas Marcelino"
   ]
  },
  {
   "cell_type": "code",
   "execution_count": null,
   "id": "88b68a40-5f62-438e-a1e3-3af5e51a8b77",
   "metadata": {},
   "outputs": [],
   "source": []
  }
 ],
 "metadata": {
  "kernelspec": {
   "display_name": "Python 3 (ipykernel)",
   "language": "python",
   "name": "python3"
  },
  "language_info": {
   "codemirror_mode": {
    "name": "ipython",
    "version": 3
   },
   "file_extension": ".py",
   "mimetype": "text/x-python",
   "name": "python",
   "nbconvert_exporter": "python",
   "pygments_lexer": "ipython3",
   "version": "3.12.8"
  }
 },
 "nbformat": 4,
 "nbformat_minor": 5
}
